{
 "cells": [
  {
   "cell_type": "code",
   "execution_count": 1,
   "id": "1b2ec4ba",
   "metadata": {},
   "outputs": [],
   "source": [
    "import numpy as np"
   ]
  },
  {
   "cell_type": "code",
   "execution_count": 3,
   "id": "ddabd22e",
   "metadata": {},
   "outputs": [
    {
     "name": "stdout",
     "output_type": "stream",
     "text": [
      "[[ 56.    0.    4.4  68. ]\n",
      " [  1.2 104.   52.    8. ]\n",
      " [  1.8 135.   99.    0.9]]\n"
     ]
    }
   ],
   "source": [
    "A = np.array([[56.0, 0.0, 4.4, 68.0],\n",
    "            [1.2, 104.0, 52.0, 8.0],\n",
    "            [1.8, 135.0, 99.0, 0.9]])\n",
    "print(A)"
   ]
  },
  {
   "cell_type": "code",
   "execution_count": 5,
   "id": "c3d45c19",
   "metadata": {},
   "outputs": [
    {
     "name": "stdout",
     "output_type": "stream",
     "text": [
      "[ 59.  239.  155.4  76.9]\n"
     ]
    }
   ],
   "source": [
    "cal = A.sum(axis=0)\n",
    "print(cal)"
   ]
  },
  {
   "cell_type": "code",
   "execution_count": 6,
   "id": "4bc40593",
   "metadata": {},
   "outputs": [
    {
     "name": "stdout",
     "output_type": "stream",
     "text": [
      "[[94.91525424  0.          2.83140283 88.42652796]\n",
      " [ 2.03389831 43.51464435 33.46203346 10.40312094]\n",
      " [ 3.05084746 56.48535565 63.70656371  1.17035111]]\n"
     ]
    }
   ],
   "source": [
    "percentage = 100*A/cal.reshape(1,4)\n",
    "print(percentage)"
   ]
  },
  {
   "cell_type": "code",
   "execution_count": 9,
   "id": "bc58b462",
   "metadata": {},
   "outputs": [
    {
     "data": {
      "text/plain": [
       "array([101., 103., 104.])"
      ]
     },
     "execution_count": 9,
     "metadata": {},
     "output_type": "execute_result"
    }
   ],
   "source": [
    "np.array([1.0,3,4]) + 100"
   ]
  },
  {
   "cell_type": "code",
   "execution_count": 10,
   "id": "d37d9db9",
   "metadata": {},
   "outputs": [
    {
     "name": "stdout",
     "output_type": "stream",
     "text": [
      "[-0.66557867 -0.19449279 -0.40386289  0.371029   -0.60079026]\n"
     ]
    }
   ],
   "source": [
    "a = np.random.randn(5)\n",
    "print(a)"
   ]
  },
  {
   "cell_type": "code",
   "execution_count": 11,
   "id": "56b4eee5",
   "metadata": {},
   "outputs": [
    {
     "data": {
      "text/plain": [
       "(5,)"
      ]
     },
     "execution_count": 11,
     "metadata": {},
     "output_type": "execute_result"
    }
   ],
   "source": [
    "a.shape"
   ]
  },
  {
   "cell_type": "code",
   "execution_count": 12,
   "id": "7d091bcb",
   "metadata": {},
   "outputs": [
    {
     "data": {
      "text/plain": [
       "(5,)"
      ]
     },
     "execution_count": 12,
     "metadata": {},
     "output_type": "execute_result"
    }
   ],
   "source": [
    "a.T.shape"
   ]
  },
  {
   "cell_type": "code",
   "execution_count": 13,
   "id": "c6047ec6",
   "metadata": {},
   "outputs": [
    {
     "name": "stdout",
     "output_type": "stream",
     "text": [
      "1.1425391059306242\n"
     ]
    }
   ],
   "source": [
    "print(np.dot(a, a.T))"
   ]
  },
  {
   "cell_type": "code",
   "execution_count": 14,
   "id": "65d53d07",
   "metadata": {},
   "outputs": [],
   "source": [
    "#It is very hard to debug code above, because the dimension of the vector\n",
    "#is difficult to identify after operation"
   ]
  },
  {
   "cell_type": "code",
   "execution_count": 15,
   "id": "6c354955",
   "metadata": {},
   "outputs": [],
   "source": [
    "# In order to avoid any complication, we should explicit the shape of the array we are creating"
   ]
  },
  {
   "cell_type": "code",
   "execution_count": 17,
   "id": "77ad31fd",
   "metadata": {},
   "outputs": [
    {
     "name": "stdout",
     "output_type": "stream",
     "text": [
      "[[ 0.60846012]\n",
      " [ 0.41782065]\n",
      " [-1.71899392]\n",
      " [-0.63400718]\n",
      " [-1.39581283]]\n"
     ]
    }
   ],
   "source": [
    "a = np.random.randn(5,1)\n",
    "print(a)"
   ]
  },
  {
   "cell_type": "code",
   "execution_count": 18,
   "id": "cc7b1fa8",
   "metadata": {},
   "outputs": [
    {
     "name": "stdout",
     "output_type": "stream",
     "text": [
      "[[ 0.60846012  0.41782065 -1.71899392 -0.63400718 -1.39581283]]\n"
     ]
    }
   ],
   "source": [
    "print(a.T)"
   ]
  },
  {
   "cell_type": "code",
   "execution_count": 20,
   "id": "65b8dafa",
   "metadata": {},
   "outputs": [
    {
     "name": "stdout",
     "output_type": "stream",
     "text": [
      "[[ 0.37022372  0.25422721 -1.04593925 -0.38576809 -0.84929645]\n",
      " [ 0.25422721  0.1745741  -0.71823116 -0.2649013  -0.58319943]\n",
      " [-1.04593925 -0.71823116  2.95494009  1.08985449  2.39939376]\n",
      " [-0.38576809 -0.2649013   1.08985449  0.40196511  0.88495536]\n",
      " [-0.84929645 -0.58319943  2.39939376  0.88495536  1.94829345]]\n"
     ]
    }
   ],
   "source": [
    "print(np.dot(a, a.T))"
   ]
  },
  {
   "cell_type": "code",
   "execution_count": 21,
   "id": "fdf7d998",
   "metadata": {},
   "outputs": [],
   "source": [
    "assert(a.shape == (5,1))"
   ]
  },
  {
   "cell_type": "code",
   "execution_count": 22,
   "id": "36b3e984",
   "metadata": {},
   "outputs": [
    {
     "ename": "AssertionError",
     "evalue": "",
     "output_type": "error",
     "traceback": [
      "\u001b[0;31m---------------------------------------------------------------------------\u001b[0m",
      "\u001b[0;31mAssertionError\u001b[0m                            Traceback (most recent call last)",
      "Cell \u001b[0;32mIn[22], line 1\u001b[0m\n\u001b[0;32m----> 1\u001b[0m \u001b[38;5;28;01massert\u001b[39;00m(a\u001b[38;5;241m.\u001b[39mshape \u001b[38;5;241m==\u001b[39m (\u001b[38;5;241m1\u001b[39m,\u001b[38;5;241m5\u001b[39m))\n",
      "\u001b[0;31mAssertionError\u001b[0m: "
     ]
    }
   ],
   "source": [
    "assert(a.shape == (1,5))"
   ]
  },
  {
   "cell_type": "code",
   "execution_count": 23,
   "id": "edb7bae2",
   "metadata": {},
   "outputs": [
    {
     "name": "stdout",
     "output_type": "stream",
     "text": [
      "(12288, 45)\n"
     ]
    }
   ],
   "source": [
    "a=np.random.randn(12288, 150)\n",
    "b=np.random.randn(150, 45)\n",
    "print(np.dot(a, b).shape)"
   ]
  },
  {
   "cell_type": "code",
   "execution_count": 24,
   "id": "0536fbc7",
   "metadata": {},
   "outputs": [
    {
     "name": "stdout",
     "output_type": "stream",
     "text": [
      "[[-1.08079152  0.2184997  -0.99386166 ... -0.08888122 -1.29975557\n",
      "   1.28704355]\n",
      " [-0.0823335   1.04939016 -1.63019274 ...  0.21452901  0.24280755\n",
      "   0.88566286]\n",
      " [ 1.84070237  0.88891183  0.1010927  ... -1.34510805  0.52833169\n",
      "   0.9133158 ]\n",
      " ...\n",
      " [-2.28612035 -1.5356022   0.20221357 ...  0.18811677  1.61227022\n",
      "   0.56133266]\n",
      " [-1.59169246 -1.3704846  -1.52547817 ... -0.03292352  1.12562555\n",
      "   0.02074091]\n",
      " [-0.72762078 -0.77498318 -1.0959191  ... -1.15172282 -2.7085336\n",
      "   1.02046007]]\n"
     ]
    }
   ],
   "source": [
    "print(a)"
   ]
  },
  {
   "cell_type": "code",
   "execution_count": 25,
   "id": "1a7be5b4",
   "metadata": {},
   "outputs": [
    {
     "data": {
      "text/plain": [
       "array([[-0.79810031, -2.28242163,  1.89898347, -0.13851871, -0.10357773]])"
      ]
     },
     "execution_count": 25,
     "metadata": {},
     "output_type": "execute_result"
    }
   ],
   "source": [
    "np.random.randn(1,5)"
   ]
  },
  {
   "cell_type": "code",
   "execution_count": 26,
   "id": "63bc573d",
   "metadata": {},
   "outputs": [
    {
     "data": {
      "text/plain": [
       "array([[ 2.20310947],\n",
       "       [-0.2475076 ],\n",
       "       [ 0.85862428],\n",
       "       [-0.09990341],\n",
       "       [-2.64140347]])"
      ]
     },
     "execution_count": 26,
     "metadata": {},
     "output_type": "execute_result"
    }
   ],
   "source": [
    "np.random.randn(5,1)"
   ]
  },
  {
   "cell_type": "code",
   "execution_count": 31,
   "id": "9072f75f",
   "metadata": {},
   "outputs": [
    {
     "data": {
      "text/plain": [
       "array([[ 0.67317983, -1.39070797,  1.46231484],\n",
       "       [ 0.10205084, -1.45442043, -1.60591103],\n",
       "       [ 0.80424577, -1.62873363, -0.09706704],\n",
       "       [-2.61014525,  1.46278221, -0.31935035]])"
      ]
     },
     "execution_count": 31,
     "metadata": {},
     "output_type": "execute_result"
    }
   ],
   "source": [
    "np.random.randn(4,3)"
   ]
  },
  {
   "cell_type": "code",
   "execution_count": 32,
   "id": "d3f66afd",
   "metadata": {},
   "outputs": [
    {
     "data": {
      "text/plain": [
       "array([[ 0.05842578,  0.04124894,  0.1663469 ],\n",
       "       [-0.3825631 , -1.06624428, -2.08973661],\n",
       "       [-0.02988694,  0.04741788,  0.38121681]])"
      ]
     },
     "execution_count": 32,
     "metadata": {},
     "output_type": "execute_result"
    }
   ],
   "source": [
    "np.random.randn(3,3) * np.random.rand(3,1)"
   ]
  },
  {
   "cell_type": "code",
   "execution_count": 40,
   "id": "f965293f",
   "metadata": {},
   "outputs": [
    {
     "data": {
      "text/plain": [
       "(2, 3)"
      ]
     },
     "execution_count": 40,
     "metadata": {},
     "output_type": "execute_result"
    }
   ],
   "source": [
    "(np.random.randn(2,3) + np.random.randn(2,1)).shape"
   ]
  },
  {
   "cell_type": "code",
   "execution_count": 42,
   "id": "cdaddd51",
   "metadata": {},
   "outputs": [
    {
     "ename": "ValueError",
     "evalue": "operands could not be broadcast together with shapes (4,3) (3,2) ",
     "output_type": "error",
     "traceback": [
      "\u001b[0;31m---------------------------------------------------------------------------\u001b[0m",
      "\u001b[0;31mValueError\u001b[0m                                Traceback (most recent call last)",
      "Cell \u001b[0;32mIn[42], line 1\u001b[0m\n\u001b[0;32m----> 1\u001b[0m (\u001b[43mnp\u001b[49m\u001b[38;5;241;43m.\u001b[39;49m\u001b[43mrandom\u001b[49m\u001b[38;5;241;43m.\u001b[39;49m\u001b[43mrandn\u001b[49m\u001b[43m(\u001b[49m\u001b[38;5;241;43m4\u001b[39;49m\u001b[43m,\u001b[49m\u001b[38;5;241;43m3\u001b[39;49m\u001b[43m)\u001b[49m\u001b[43m \u001b[49m\u001b[38;5;241;43m*\u001b[39;49m\u001b[43m \u001b[49m\u001b[43mnp\u001b[49m\u001b[38;5;241;43m.\u001b[39;49m\u001b[43mrandom\u001b[49m\u001b[38;5;241;43m.\u001b[39;49m\u001b[43mrandn\u001b[49m\u001b[43m(\u001b[49m\u001b[38;5;241;43m3\u001b[39;49m\u001b[43m,\u001b[49m\u001b[38;5;241;43m2\u001b[39;49m\u001b[43m)\u001b[49m)\u001b[38;5;241m.\u001b[39mshape\n",
      "\u001b[0;31mValueError\u001b[0m: operands could not be broadcast together with shapes (4,3) (3,2) "
     ]
    }
   ],
   "source": [
    "(np.random.randn(4,3) * np.random.randn(3,2)).shape"
   ]
  },
  {
   "cell_type": "code",
   "execution_count": 44,
   "id": "ab231831",
   "metadata": {},
   "outputs": [
    {
     "name": "stdout",
     "output_type": "stream",
     "text": [
      "[[2 1]\n",
      " [1 3]]\n"
     ]
    }
   ],
   "source": [
    "a = np.array([[2,1],[1,3]])\n",
    "print(a)"
   ]
  },
  {
   "cell_type": "code",
   "execution_count": 45,
   "id": "a1a36a85",
   "metadata": {},
   "outputs": [
    {
     "data": {
      "text/plain": [
       "array([[4, 1],\n",
       "       [1, 9]])"
      ]
     },
     "execution_count": 45,
     "metadata": {},
     "output_type": "execute_result"
    }
   ],
   "source": [
    "a*a"
   ]
  },
  {
   "cell_type": "code",
   "execution_count": 50,
   "id": "8f1b160e",
   "metadata": {},
   "outputs": [
    {
     "data": {
      "text/plain": [
       "array([[ 0.22002571,  1.77391006, -0.59148403,  0.09594566],\n",
       "       [-0.26007544,  0.62947179, -1.52183958, -0.78708555],\n",
       "       [-1.0777614 ,  0.00433343, -0.69249274, -0.20219255]])"
      ]
     },
     "execution_count": 50,
     "metadata": {},
     "output_type": "execute_result"
    }
   ],
   "source": [
    "a=np.random.randn(3,4)\n",
    "b=np.random.randn(4,1)\n",
    "a*b.T"
   ]
  },
  {
   "cell_type": "code",
   "execution_count": 51,
   "id": "8b27cb1b",
   "metadata": {},
   "outputs": [
    {
     "name": "stdout",
     "output_type": "stream",
     "text": [
      "(3, 3)\n"
     ]
    }
   ],
   "source": [
    "a=np.random.randn(3,3)\n",
    "b=np.random.randn(3,1)\n",
    "c=a*b\n",
    "print(c.shape)"
   ]
  },
  {
   "cell_type": "code",
   "execution_count": 53,
   "id": "21cb9765",
   "metadata": {},
   "outputs": [],
   "source": [
    "#(ab + ac -(b+c))"
   ]
  },
  {
   "cell_type": "code",
   "execution_count": 54,
   "id": "cc25e7e9",
   "metadata": {},
   "outputs": [],
   "source": [
    "# => a(b+c)-(b+c)"
   ]
  },
  {
   "cell_type": "code",
   "execution_count": null,
   "id": "ae1e39a7",
   "metadata": {},
   "outputs": [],
   "source": [
    "# => (a-1)*(b+c)"
   ]
  }
 ],
 "metadata": {
  "kernelspec": {
   "display_name": "Python 3 (ipykernel)",
   "language": "python",
   "name": "python3"
  },
  "language_info": {
   "codemirror_mode": {
    "name": "ipython",
    "version": 3
   },
   "file_extension": ".py",
   "mimetype": "text/x-python",
   "name": "python",
   "nbconvert_exporter": "python",
   "pygments_lexer": "ipython3",
   "version": "3.10.10"
  }
 },
 "nbformat": 4,
 "nbformat_minor": 5
}
